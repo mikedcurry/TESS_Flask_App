{
 "cells": [
  {
   "cell_type": "code",
   "execution_count": 2,
   "metadata": {},
   "outputs": [],
   "source": [
    "df = pd.read_csv('dataproducts_example.csv')"
   ]
  },
  {
   "cell_type": "code",
   "execution_count": 3,
   "metadata": {},
   "outputs": [
    {
     "data": {
      "text/html": [
       "<div>\n",
       "<style scoped>\n",
       "    .dataframe tbody tr th:only-of-type {\n",
       "        vertical-align: middle;\n",
       "    }\n",
       "\n",
       "    .dataframe tbody tr th {\n",
       "        vertical-align: top;\n",
       "    }\n",
       "\n",
       "    .dataframe thead th {\n",
       "        text-align: right;\n",
       "    }\n",
       "</style>\n",
       "<table border=\"1\" class=\"dataframe\">\n",
       "  <thead>\n",
       "    <tr style=\"text-align: right;\">\n",
       "      <th></th>\n",
       "      <th>Unnamed: 0</th>\n",
       "      <th>TIC ID</th>\n",
       "      <th>dataURL</th>\n",
       "    </tr>\n",
       "  </thead>\n",
       "  <tbody>\n",
       "  </tbody>\n",
       "</table>\n",
       "</div>"
      ],
      "text/plain": [
       "Empty DataFrame\n",
       "Columns: [Unnamed: 0, TIC ID, dataURL]\n",
       "Index: []"
      ]
     },
     "execution_count": 3,
     "metadata": {},
     "output_type": "execute_result"
    }
   ],
   "source": [
    "df.head(0)"
   ]
  },
  {
   "cell_type": "code",
   "execution_count": null,
   "metadata": {},
   "outputs": [],
   "source": [
    "import pandas as pd\n",
    "from flask_sqlalchemy import SQLAlchemy\n",
    "from astropy.io import fits\n",
    "import matplotlib.pyplot as plt\n",
    "# from .models import DB, Visual_Table\n",
    "\n",
    "# fetch Light Curve visual and basic data\n",
    "def get_lightcurve(input_tic):\n",
    "    # Getting urls for all dataproducts associated with TIC ID given by user\n",
    "    try:\n",
    "\n",
    "        # Next line need to become a DB query \n",
    "        # urls_for_input = dataproducts[dataproducts['TIC ID'] == input_tic][\n",
    "        # 'dataURL'].tolist()\n",
    "        try:\n",
    "#             urls_for_input = Visual_Table.query.filter(Visual_Table.TIC_ID == input_tic)\n",
    "            urls_for_input = df[df['TIC ID'] == input_tic][\n",
    "                                'dataURL'].tolist()\n",
    "        except:\n",
    "            print('failed to pull')\n",
    "        \n",
    "        else:\n",
    "            for url in urls_for_input:\n",
    "                count = 0\n",
    "                \n",
    "                fits_file = ('https://mast.stsci.edu/api/v0.1/Download/file?uri=' + url)\n",
    "                \n",
    "                # print(fits.info(fits_file), \"\\n\")\n",
    "                # print(fits.getdata(fits_file, ext=1).columns)\n",
    "                \n",
    "                with fits.open(fits_file, mode=\"readonly\") as hdulist:\n",
    "                    tess_bjds = hdulist[1].data['TIME']\n",
    "                    sap_fluxes = hdulist[1].data['SAP_FLUX']\n",
    "                    pdcsap_fluxes = hdulist[1].data['PDCSAP_FLUX']\n",
    "                \n",
    "                fig, ax = plt.subplots()\n",
    "\n",
    "                ax.plot(tess_bjds, pdcsap_fluxes, 'ko')\n",
    "\n",
    "                ax.set_ylabel(\"PDCSAP Flux (e-/s)\")\n",
    "                ax.set_xlabel(\"Time (TBJD)\")\n",
    "\n",
    "                plt.savefig(fname=str(input_tic + '_' + count + '.png'))\n",
    "                \n",
    "                count = count + 1\n",
    "    except:\n",
    "        print('My Bad. Light Curve function is not working.')\n",
    "        \n",
    "    return \n",
    "    "
   ]
  }
 ],
 "metadata": {
  "kernelspec": {
   "display_name": "Python 3",
   "language": "python",
   "name": "python3"
  },
  "language_info": {
   "codemirror_mode": {
    "name": "ipython",
    "version": 3
   },
   "file_extension": ".py",
   "mimetype": "text/x-python",
   "name": "python",
   "nbconvert_exporter": "python",
   "pygments_lexer": "ipython3",
   "version": "3.7.1"
  }
 },
 "nbformat": 4,
 "nbformat_minor": 2
}
